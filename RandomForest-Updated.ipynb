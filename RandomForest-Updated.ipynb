{
 "cells": [
  {
   "cell_type": "code",
   "execution_count": 1,
   "id": "8934f0fc",
   "metadata": {},
   "outputs": [],
   "source": [
    "import modules.preprocessing_functions as pre\n",
    "import warnings\n",
    "warnings.filterwarnings('ignore')\n"
   ]
  },
  {
   "cell_type": "code",
   "execution_count": 146,
   "id": "43e39b2c",
   "metadata": {},
   "outputs": [],
   "source": [
    "import pandas as pd\n",
    "import numpy as np\n",
    "\n",
    "\n",
    "from sklearn.tree import DecisionTreeRegressor\n",
    "from sklearn.ensemble import RandomForestRegressor\n",
    "from sklearn.model_selection import train_test_split\n",
    "from sklearn.preprocessing import MinMaxScaler\n",
    "\n",
    "from sklearn.preprocessing import OneHotEncoder\n",
    "from sklearn.preprocessing import OrdinalEncoder\n",
    "from sklearn.metrics import mean_squared_error \n",
    "\n",
    "\n",
    "def split_data(X, y, test_size=0.2, random_state=99):\n",
    "    X_train, X_test, y_train, y_test = train_test_split(X, y, test_size = test_size, random_state = random_state)\n",
    "    \n",
    "    return X_train, X_test, y_train, y_test\n",
    "\n",
    "def decision_tree(X_train, X_test, y_train, y_test):\n",
    "    dec_tree = DecisionTreeRegressor()\n",
    "    dec_tree.fit(X_train, y_train)\n",
    "    y_pred = dec_tree.predict(X_test)\n",
    "    print('Mean Squared Error: {0:0.4f}'.format(mean_squared_error(y_test, y_pred)))\n",
    "    \n",
    "    return dec_tree, y_pred\n",
    "\n",
    "def random_forest(X_train, X_test, y_train, y_test, random_state=99):\n",
    "    rand_for = RandomForestRegressor(max_depth=100, min_samples_split=3, min_samples_leaf=3)\n",
    "    rand_for.fit(X_train, y_train)\n",
    "    y_pred = rand_for.predict(X_test)\n",
    "    print('Mean Squared Error: {0:0.4f}'.format(mean_squared_error(y_test, y_pred)))\n",
    "    print('RSME: {0:0.4f}'.format(mean_squared_error(y_test, y_pred, squared=False)))\n",
    "\n",
    "    \n",
    "    return rand_for, y_pred\n",
    "\n",
    "\n",
    "def cleaning(df, year='2019', month='01', day='07', delay_max = 30, delay_min = -16, greater=False):\n",
    "    \n",
    "    cut_off = year + '-' + month + '-' + day\n",
    "    \n",
    "    if greater==True:\n",
    "        df = df[df.fl_date >= cut_off]\n",
    "    else:\n",
    "        df = df[df.fl_date <= cut_off]\n",
    "    df = df.loc[df['cancelled']==0]\n",
    "    df = df.loc[df['diverted']==0]\n",
    "    \n",
    "    is_delay = np.zeros(df.shape[0])\n",
    "    \n",
    "    for i, entry in enumerate(df.arr_delay):\n",
    "        is_delay[i] = entry > 0\n",
    "\n",
    "    df['is_delay'] = is_delay\n",
    "    \n",
    "    df = df.loc[df['arr_delay'] < delay_max]\n",
    "    df = df.loc[df['arr_delay'] > delay_min]\n",
    "    \n",
    "    df['arr_delay'] = df['arr_delay'].fillna(0)\n",
    "    \n",
    "    \n",
    "    return df \n",
    " "
   ]
  },
  {
   "cell_type": "code",
   "execution_count": 3,
   "id": "7a0dc715",
   "metadata": {},
   "outputs": [],
   "source": [
    "# Note: the data is in my local file but not pushed to GitHub- adjust your path - Load and Back Up\n",
    "\n",
    "flights = pd.read_csv('data/2019-01.csv', low_memory=False)\n"
   ]
  },
  {
   "cell_type": "code",
   "execution_count": 46,
   "id": "119bd12d-d087-4d89-9600-2becd5b79235",
   "metadata": {},
   "outputs": [
    {
     "data": {
      "text/plain": [
       "mean     4.714467\n",
       "std     52.089993\n",
       "Name: arr_delay, dtype: float64"
      ]
     },
     "execution_count": 46,
     "metadata": {},
     "output_type": "execute_result"
    }
   ],
   "source": [
    "flights.arr_delay.agg(['mean', 'std'])"
   ]
  },
  {
   "cell_type": "code",
   "execution_count": 74,
   "id": "8b4b8954-c802-4d53-b6cf-d5bc949e1d68",
   "metadata": {},
   "outputs": [
    {
     "data": {
      "text/plain": [
       "0.10    -24.0\n",
       "0.25    -16.0\n",
       "0.50     -7.0\n",
       "0.75      7.0\n",
       "0.90     37.0\n",
       "0.95     75.0\n",
       "0.98    141.0\n",
       "Name: arr_delay, dtype: float64"
      ]
     },
     "execution_count": 74,
     "metadata": {},
     "output_type": "execute_result"
    }
   ],
   "source": [
    "flights.arr_delay.quantile([0.1, 0.25, 0.5, 0.75, 0.9, 0.95, 0.98])"
   ]
  },
  {
   "cell_type": "code",
   "execution_count": 7,
   "id": "d97f0187-023c-4f32-9a3e-eb62bca6d07e",
   "metadata": {},
   "outputs": [
    {
     "data": {
      "text/plain": [
       "(146485, 42)"
      ]
     },
     "execution_count": 7,
     "metadata": {},
     "output_type": "execute_result"
    }
   ],
   "source": [
    "flights[flights.fl_date < '2019-01-08'].shape"
   ]
  },
  {
   "cell_type": "code",
   "execution_count": 147,
   "id": "0bf5ee1f",
   "metadata": {},
   "outputs": [],
   "source": [
    "# df_1 = cleaning(flights, '2019', '01', '08')\n",
    "# df_2 = cleaning(flights_2, '2019', '12', '19', greater=True)\n",
    "# df = cleaning(flights, '2019', '01', '32', delay_max=37, delay_min=0)\n",
    "df = cleaning(flights, '2019', '01', '31', delay_max=60, delay_min=-7)\n",
    "\n",
    "# df = pd.concat([df_1, df_2])"
   ]
  },
  {
   "cell_type": "code",
   "execution_count": 148,
   "id": "0d77ec64-1881-4c17-b591-26ec297d2da5",
   "metadata": {},
   "outputs": [
    {
     "data": {
      "text/plain": [
       "(266130, 43)"
      ]
     },
     "execution_count": 148,
     "metadata": {},
     "output_type": "execute_result"
    }
   ],
   "source": [
    "df.shape"
   ]
  },
  {
   "cell_type": "code",
   "execution_count": 149,
   "id": "1fce21bf",
   "metadata": {},
   "outputs": [],
   "source": [
    "# Get the target\n",
    "y = df.arr_delay"
   ]
  },
  {
   "cell_type": "code",
   "execution_count": 150,
   "id": "a6303588",
   "metadata": {},
   "outputs": [],
   "source": [
    "\n",
    "keep = ['crs_dep_time', 'fl_date', 'mkt_carrier', 'origin_city_name', 'dest_city_name', 'tail_num']\n",
    "df_new = df[keep]\n",
    "\n"
   ]
  },
  {
   "cell_type": "code",
   "execution_count": 151,
   "id": "c77186bd",
   "metadata": {},
   "outputs": [
    {
     "data": {
      "text/html": [
       "<div>\n",
       "<style scoped>\n",
       "    .dataframe tbody tr th:only-of-type {\n",
       "        vertical-align: middle;\n",
       "    }\n",
       "\n",
       "    .dataframe tbody tr th {\n",
       "        vertical-align: top;\n",
       "    }\n",
       "\n",
       "    .dataframe thead th {\n",
       "        text-align: right;\n",
       "    }\n",
       "</style>\n",
       "<table border=\"1\" class=\"dataframe\">\n",
       "  <thead>\n",
       "    <tr style=\"text-align: right;\">\n",
       "      <th></th>\n",
       "      <th>crs_dep_time</th>\n",
       "      <th>fl_date</th>\n",
       "      <th>mkt_carrier</th>\n",
       "      <th>origin_city_name</th>\n",
       "      <th>dest_city_name</th>\n",
       "      <th>tail_num</th>\n",
       "    </tr>\n",
       "  </thead>\n",
       "  <tbody>\n",
       "    <tr>\n",
       "      <th>2</th>\n",
       "      <td>1345</td>\n",
       "      <td>2019-01-01</td>\n",
       "      <td>AS</td>\n",
       "      <td>Las Vegas, NV</td>\n",
       "      <td>Portland, OR</td>\n",
       "      <td>N524VA</td>\n",
       "    </tr>\n",
       "  </tbody>\n",
       "</table>\n",
       "</div>"
      ],
      "text/plain": [
       "   crs_dep_time     fl_date mkt_carrier origin_city_name dest_city_name  \\\n",
       "2          1345  2019-01-01          AS    Las Vegas, NV   Portland, OR   \n",
       "\n",
       "  tail_num  \n",
       "2   N524VA  "
      ]
     },
     "execution_count": 151,
     "metadata": {},
     "output_type": "execute_result"
    }
   ],
   "source": [
    "df_new.head(1)"
   ]
  },
  {
   "cell_type": "code",
   "execution_count": 80,
   "id": "ebdd10d0-d078-4a28-87fb-57139134e720",
   "metadata": {},
   "outputs": [],
   "source": [
    "import delaytable as dt\n",
    "delaytables = dt.DelayTables(2018, 2018, 1)"
   ]
  },
  {
   "cell_type": "code",
   "execution_count": 81,
   "id": "3e5a50ac-faf8-4762-8543-188e8d79e565",
   "metadata": {},
   "outputs": [],
   "source": [
    "hour_delay, daily_delay, carrier_delay, origin_city_delay, dest_city_delay, tail_delay = delaytables.delay_tables()"
   ]
  },
  {
   "cell_type": "code",
   "execution_count": 82,
   "id": "2161f735-ea1a-4231-9ee9-b0775ff5b6a4",
   "metadata": {},
   "outputs": [],
   "source": [
    "# daily_delay"
   ]
  },
  {
   "cell_type": "code",
   "execution_count": 83,
   "id": "4e29d7f6-1351-428a-9f5c-c5d5270f8236",
   "metadata": {},
   "outputs": [],
   "source": [
    "# hour_delay"
   ]
  },
  {
   "cell_type": "code",
   "execution_count": 152,
   "id": "8c276e64",
   "metadata": {},
   "outputs": [],
   "source": [
    "size = len(df_new)\n",
    "\n",
    "hourly_average = np.empty(size)\n",
    "for i, entry in enumerate(df_new.crs_dep_time):\n",
    "    line = str(entry)\n",
    "    time = len(line)\n",
    "    if (time == 2) or (time == 1):\n",
    "        key = 0\n",
    "    elif time == 3:\n",
    "        key = line[0]\n",
    "    elif time == 4:\n",
    "        key = line[:2]\n",
    "    else:\n",
    "        raise ValueError(\"Found invalid data entry\")\n",
    "    \n",
    "    hourly_average[i] = hour_delay[int(key)]\n",
    "\n",
    "\n",
    "daily_average = np.empty(size)\n",
    "for i, entry in enumerate(df_new.fl_date):\n",
    "    day = entry[-2:]\n",
    "    if day[0] == '0':\n",
    "        day = int(day[-1])\n",
    "    else:\n",
    "        day = int(day)\n",
    "    daily_average[i] = daily_delay[day]\n",
    "\n",
    "\n",
    "\n",
    "carrier_average = np.empty(size)\n",
    "for i, entry in enumerate(df_new.mkt_carrier):\n",
    "    carrier_average[i] = carrier_delay[entry]\n",
    "\n",
    "origin_city_mean = sum(origin_city_delay.values())/len(origin_city_delay.values())\n",
    "\n",
    "origin_city_average = np.empty(size)\n",
    "for i, entry in enumerate(df_new.origin_city_name):\n",
    "    try:\n",
    "        origin_city_average[i] = origin_city_delay[entry]\n",
    "    except KeyError:\n",
    "        origin_city_average[i] = origin_city_mean\n",
    "\n",
    "\n",
    "dest_city_mean = sum(dest_city_delay.values())/len(dest_city_delay.values())\n",
    "\n",
    "dest_city_average = np.empty(size)\n",
    "for i, entry in enumerate(df_new.dest_city_name):\n",
    "    try:\n",
    "        dest_city_average[i] = dest_city_delay[entry]\n",
    "    except KeyError:\n",
    "        dest_city_average[i] = origin_city_mean\n",
    "\n",
    "tail_average = np.empty(size)\n",
    "for i, entry in enumerate(df_new.tail_num):\n",
    "    try:\n",
    "        tail_average[i] = tail_delay[entry]\n",
    "    except KeyError:\n",
    "        tail_average[i] = 0"
   ]
  },
  {
   "cell_type": "code",
   "execution_count": 153,
   "id": "708e5f7d",
   "metadata": {},
   "outputs": [],
   "source": [
    "df_new['hour_del'] = hourly_average\n",
    "df_new['daily_del'] = daily_average\n",
    "df_new['carrier_del'] = carrier_average\n",
    "df_new['origin_city_del'] = origin_city_average\n",
    "df_new['dest_city_del'] = dest_city_average\n",
    "df_new['tail_del'] = tail_average"
   ]
  },
  {
   "cell_type": "code",
   "execution_count": 154,
   "id": "81efc39d",
   "metadata": {},
   "outputs": [
    {
     "data": {
      "text/html": [
       "<div>\n",
       "<style scoped>\n",
       "    .dataframe tbody tr th:only-of-type {\n",
       "        vertical-align: middle;\n",
       "    }\n",
       "\n",
       "    .dataframe tbody tr th {\n",
       "        vertical-align: top;\n",
       "    }\n",
       "\n",
       "    .dataframe thead th {\n",
       "        text-align: right;\n",
       "    }\n",
       "</style>\n",
       "<table border=\"1\" class=\"dataframe\">\n",
       "  <thead>\n",
       "    <tr style=\"text-align: right;\">\n",
       "      <th></th>\n",
       "      <th>crs_dep_time</th>\n",
       "      <th>fl_date</th>\n",
       "      <th>mkt_carrier</th>\n",
       "      <th>origin_city_name</th>\n",
       "      <th>dest_city_name</th>\n",
       "      <th>tail_num</th>\n",
       "      <th>hour_del</th>\n",
       "      <th>daily_del</th>\n",
       "      <th>carrier_del</th>\n",
       "      <th>origin_city_del</th>\n",
       "      <th>dest_city_del</th>\n",
       "      <th>tail_del</th>\n",
       "    </tr>\n",
       "  </thead>\n",
       "  <tbody>\n",
       "    <tr>\n",
       "      <th>2</th>\n",
       "      <td>1345</td>\n",
       "      <td>2019-01-01</td>\n",
       "      <td>AS</td>\n",
       "      <td>Las Vegas, NV</td>\n",
       "      <td>Portland, OR</td>\n",
       "      <td>N524VA</td>\n",
       "      <td>4.208772</td>\n",
       "      <td>14.457773</td>\n",
       "      <td>-4.704022</td>\n",
       "      <td>0.738841</td>\n",
       "      <td>-4.388330</td>\n",
       "      <td>-4.138889</td>\n",
       "    </tr>\n",
       "    <tr>\n",
       "      <th>5</th>\n",
       "      <td>2055</td>\n",
       "      <td>2019-01-01</td>\n",
       "      <td>AS</td>\n",
       "      <td>San Jose, CA</td>\n",
       "      <td>Seattle, WA</td>\n",
       "      <td>N623VA</td>\n",
       "      <td>5.174974</td>\n",
       "      <td>14.457773</td>\n",
       "      <td>-4.704022</td>\n",
       "      <td>-0.165883</td>\n",
       "      <td>-3.149996</td>\n",
       "      <td>8.070588</td>\n",
       "    </tr>\n",
       "    <tr>\n",
       "      <th>7</th>\n",
       "      <td>800</td>\n",
       "      <td>2019-01-01</td>\n",
       "      <td>AS</td>\n",
       "      <td>San Jose, CA</td>\n",
       "      <td>Seattle, WA</td>\n",
       "      <td>N625VA</td>\n",
       "      <td>0.627441</td>\n",
       "      <td>14.457773</td>\n",
       "      <td>-4.704022</td>\n",
       "      <td>-0.165883</td>\n",
       "      <td>-3.149996</td>\n",
       "      <td>8.140000</td>\n",
       "    </tr>\n",
       "    <tr>\n",
       "      <th>10</th>\n",
       "      <td>952</td>\n",
       "      <td>2019-01-01</td>\n",
       "      <td>AS</td>\n",
       "      <td>Seattle, WA</td>\n",
       "      <td>San Jose, CA</td>\n",
       "      <td>N521VA</td>\n",
       "      <td>0.778230</td>\n",
       "      <td>14.457773</td>\n",
       "      <td>-4.704022</td>\n",
       "      <td>-3.953294</td>\n",
       "      <td>-2.746781</td>\n",
       "      <td>-5.200000</td>\n",
       "    </tr>\n",
       "    <tr>\n",
       "      <th>11</th>\n",
       "      <td>1730</td>\n",
       "      <td>2019-01-01</td>\n",
       "      <td>AS</td>\n",
       "      <td>Seattle, WA</td>\n",
       "      <td>San Jose, CA</td>\n",
       "      <td>N526VA</td>\n",
       "      <td>6.761881</td>\n",
       "      <td>14.457773</td>\n",
       "      <td>-4.704022</td>\n",
       "      <td>-3.953294</td>\n",
       "      <td>-2.746781</td>\n",
       "      <td>-6.781609</td>\n",
       "    </tr>\n",
       "  </tbody>\n",
       "</table>\n",
       "</div>"
      ],
      "text/plain": [
       "    crs_dep_time     fl_date mkt_carrier origin_city_name dest_city_name  \\\n",
       "2           1345  2019-01-01          AS    Las Vegas, NV   Portland, OR   \n",
       "5           2055  2019-01-01          AS     San Jose, CA    Seattle, WA   \n",
       "7            800  2019-01-01          AS     San Jose, CA    Seattle, WA   \n",
       "10           952  2019-01-01          AS      Seattle, WA   San Jose, CA   \n",
       "11          1730  2019-01-01          AS      Seattle, WA   San Jose, CA   \n",
       "\n",
       "   tail_num  hour_del  daily_del  carrier_del  origin_city_del  dest_city_del  \\\n",
       "2    N524VA  4.208772  14.457773    -4.704022         0.738841      -4.388330   \n",
       "5    N623VA  5.174974  14.457773    -4.704022        -0.165883      -3.149996   \n",
       "7    N625VA  0.627441  14.457773    -4.704022        -0.165883      -3.149996   \n",
       "10   N521VA  0.778230  14.457773    -4.704022        -3.953294      -2.746781   \n",
       "11   N526VA  6.761881  14.457773    -4.704022        -3.953294      -2.746781   \n",
       "\n",
       "    tail_del  \n",
       "2  -4.138889  \n",
       "5   8.070588  \n",
       "7   8.140000  \n",
       "10 -5.200000  \n",
       "11 -6.781609  "
      ]
     },
     "execution_count": 154,
     "metadata": {},
     "output_type": "execute_result"
    }
   ],
   "source": [
    "df_new.head()"
   ]
  },
  {
   "cell_type": "code",
   "execution_count": 155,
   "id": "1199251a",
   "metadata": {},
   "outputs": [],
   "source": [
    "features = ['hour_del','daily_del','carrier_del','origin_city_del','dest_city_del','tail_del']\n"
   ]
  },
  {
   "cell_type": "code",
   "execution_count": 156,
   "id": "3882b8ef",
   "metadata": {},
   "outputs": [],
   "source": [
    "X = df_new[features]"
   ]
  },
  {
   "cell_type": "code",
   "execution_count": 157,
   "id": "4b8a1a68",
   "metadata": {},
   "outputs": [
    {
     "data": {
      "text/plain": [
       "hour_del           0\n",
       "daily_del          0\n",
       "carrier_del        0\n",
       "origin_city_del    0\n",
       "dest_city_del      0\n",
       "tail_del           0\n",
       "dtype: int64"
      ]
     },
     "execution_count": 157,
     "metadata": {},
     "output_type": "execute_result"
    }
   ],
   "source": [
    "# There are a few null values for tail- just dropped them\n",
    "\n",
    "X.isnull().sum()"
   ]
  },
  {
   "cell_type": "code",
   "execution_count": 158,
   "id": "795f62ef",
   "metadata": {},
   "outputs": [
    {
     "data": {
      "text/plain": [
       "((266130, 6), (266130,))"
      ]
     },
     "execution_count": 158,
     "metadata": {},
     "output_type": "execute_result"
    }
   ],
   "source": [
    "X.shape, y.shape"
   ]
  },
  {
   "cell_type": "code",
   "execution_count": 159,
   "id": "bda64984",
   "metadata": {},
   "outputs": [
    {
     "data": {
      "text/html": [
       "<div>\n",
       "<style scoped>\n",
       "    .dataframe tbody tr th:only-of-type {\n",
       "        vertical-align: middle;\n",
       "    }\n",
       "\n",
       "    .dataframe tbody tr th {\n",
       "        vertical-align: top;\n",
       "    }\n",
       "\n",
       "    .dataframe thead th {\n",
       "        text-align: right;\n",
       "    }\n",
       "</style>\n",
       "<table border=\"1\" class=\"dataframe\">\n",
       "  <thead>\n",
       "    <tr style=\"text-align: right;\">\n",
       "      <th></th>\n",
       "      <th>hour_del</th>\n",
       "      <th>daily_del</th>\n",
       "      <th>carrier_del</th>\n",
       "      <th>origin_city_del</th>\n",
       "      <th>dest_city_del</th>\n",
       "      <th>tail_del</th>\n",
       "    </tr>\n",
       "  </thead>\n",
       "  <tbody>\n",
       "    <tr>\n",
       "      <th>2</th>\n",
       "      <td>4.208772</td>\n",
       "      <td>14.457773</td>\n",
       "      <td>-4.704022</td>\n",
       "      <td>0.738841</td>\n",
       "      <td>-4.388330</td>\n",
       "      <td>-4.138889</td>\n",
       "    </tr>\n",
       "    <tr>\n",
       "      <th>5</th>\n",
       "      <td>5.174974</td>\n",
       "      <td>14.457773</td>\n",
       "      <td>-4.704022</td>\n",
       "      <td>-0.165883</td>\n",
       "      <td>-3.149996</td>\n",
       "      <td>8.070588</td>\n",
       "    </tr>\n",
       "    <tr>\n",
       "      <th>7</th>\n",
       "      <td>0.627441</td>\n",
       "      <td>14.457773</td>\n",
       "      <td>-4.704022</td>\n",
       "      <td>-0.165883</td>\n",
       "      <td>-3.149996</td>\n",
       "      <td>8.140000</td>\n",
       "    </tr>\n",
       "    <tr>\n",
       "      <th>10</th>\n",
       "      <td>0.778230</td>\n",
       "      <td>14.457773</td>\n",
       "      <td>-4.704022</td>\n",
       "      <td>-3.953294</td>\n",
       "      <td>-2.746781</td>\n",
       "      <td>-5.200000</td>\n",
       "    </tr>\n",
       "    <tr>\n",
       "      <th>11</th>\n",
       "      <td>6.761881</td>\n",
       "      <td>14.457773</td>\n",
       "      <td>-4.704022</td>\n",
       "      <td>-3.953294</td>\n",
       "      <td>-2.746781</td>\n",
       "      <td>-6.781609</td>\n",
       "    </tr>\n",
       "  </tbody>\n",
       "</table>\n",
       "</div>"
      ],
      "text/plain": [
       "    hour_del  daily_del  carrier_del  origin_city_del  dest_city_del  tail_del\n",
       "2   4.208772  14.457773    -4.704022         0.738841      -4.388330 -4.138889\n",
       "5   5.174974  14.457773    -4.704022        -0.165883      -3.149996  8.070588\n",
       "7   0.627441  14.457773    -4.704022        -0.165883      -3.149996  8.140000\n",
       "10  0.778230  14.457773    -4.704022        -3.953294      -2.746781 -5.200000\n",
       "11  6.761881  14.457773    -4.704022        -3.953294      -2.746781 -6.781609"
      ]
     },
     "execution_count": 159,
     "metadata": {},
     "output_type": "execute_result"
    }
   ],
   "source": [
    "X.head()"
   ]
  },
  {
   "cell_type": "code",
   "execution_count": 160,
   "id": "a04b1ccd",
   "metadata": {},
   "outputs": [],
   "source": [
    "X_train, X_test, y_train, y_test = split_data(X, y, test_size=0.2, random_state=99)"
   ]
  },
  {
   "cell_type": "code",
   "execution_count": 161,
   "id": "20fc4441",
   "metadata": {},
   "outputs": [],
   "source": [
    "# Scale numeric features\n",
    "# scaler = MinMaxScaler()\n",
    "# col_num = ['hour_del','daily_del','carrier_del','origin_city_del','dest_city_del','tail_del']\n",
    "# for col in col_num:\n",
    "#     scaled_train = scaler.fit_transform(X_train[col].to_numpy().reshape(-1,1))\n",
    "#     X_train[col] = scaled_train\n",
    "\n",
    "# for col in col_num:\n",
    "#     scaled_test = scaler.transform(X_test[col].to_numpy().reshape(-1,1))\n",
    "#     X_test[col] = scaled_test"
   ]
  },
  {
   "cell_type": "code",
   "execution_count": 162,
   "id": "0f8c6fc5-0f63-4084-920b-f78ef74b9973",
   "metadata": {},
   "outputs": [],
   "source": [
    "# from sklearn.model_selection import GridSearchCV\n",
    "\n",
    "# parameter_candidates = {'n_estimators': [10, 50, 100, 250], 'criterion': ['squared_error', 'absolute_error','poisson'] }\n",
    "\n",
    "# clf = GridSearchCV(estimator=RandomForestRegressor(), param_grid=parameter_candidates, n_jobs=-1)\n",
    "# clf.fit(X_train, y_train)\n"
   ]
  },
  {
   "cell_type": "code",
   "execution_count": 163,
   "id": "2103fca7-993f-420c-8c74-978f5e477fe3",
   "metadata": {},
   "outputs": [],
   "source": [
    "# print('Best score:', clf.best_score_) "
   ]
  },
  {
   "cell_type": "code",
   "execution_count": 164,
   "id": "9d5a2ecd-d962-4fa3-a625-40673d7e18c6",
   "metadata": {},
   "outputs": [],
   "source": [
    "# clf.best_estimator_"
   ]
  },
  {
   "cell_type": "markdown",
   "id": "f64ca101-d315-4c98-87e2-de4ea47ee4e3",
   "metadata": {},
   "source": [
    "#### Copy and rerun my Random Forest Function with the best estimator from grid search"
   ]
  },
  {
   "cell_type": "code",
   "execution_count": 165,
   "id": "76d5606d-8cb0-4a68-946f-0aa1404df58b",
   "metadata": {},
   "outputs": [],
   "source": [
    "# def random_forest_best(X_train, X_test, y_train, y_test, random_state=99):\n",
    "#     rand_for = RandomForestRegressor(max_depth=250, min_samples_split=3, min_samples_leaf=3, criterion='absolute_error')\n",
    "#     rand_for.fit(X_train, y_train)\n",
    "#     y_pred = rand_for.predict(X_test)\n",
    "#     print('Mean Squared Error: {0:0.4f}'.format(mean_squared_error(y_test, y_pred)))\n",
    "#     print('RSME: {0:0.4f}'.format(mean_squared_error(y_test, y_pred, squared=False)))\n",
    "\n",
    "    \n",
    "#     return rand_for, y_pred"
   ]
  },
  {
   "cell_type": "code",
   "execution_count": 166,
   "id": "6771e278-8266-4dc3-b2e6-b149e994a1eb",
   "metadata": {},
   "outputs": [],
   "source": [
    "# tree, y_pred = random_forest_best(X_train, X_test, y_train, y_test)"
   ]
  },
  {
   "cell_type": "markdown",
   "id": "91dec505-9682-4df1-94a7-946cfade6518",
   "metadata": {},
   "source": [
    "#### Marginally better result than before"
   ]
  },
  {
   "cell_type": "code",
   "execution_count": null,
   "id": "c7e570c6-1719-4585-ad0f-2a0fc4f26ae1",
   "metadata": {},
   "outputs": [],
   "source": []
  },
  {
   "cell_type": "code",
   "execution_count": 167,
   "id": "2d4ef02d",
   "metadata": {},
   "outputs": [
    {
     "name": "stdout",
     "output_type": "stream",
     "text": [
      "Mean Squared Error: 221.7549\n",
      "RSME: 14.8914\n"
     ]
    }
   ],
   "source": [
    "tree, y_pred = random_forest(X_train, X_test, y_train, y_test)"
   ]
  },
  {
   "cell_type": "code",
   "execution_count": 168,
   "id": "ed76f889",
   "metadata": {},
   "outputs": [
    {
     "data": {
      "text/plain": [
       "(43.44569652569652, -3.902520202020203)"
      ]
     },
     "execution_count": 168,
     "metadata": {},
     "output_type": "execute_result"
    }
   ],
   "source": [
    "max(y_pred), min(y_pred)"
   ]
  },
  {
   "cell_type": "code",
   "execution_count": null,
   "id": "7ca47dec-84a7-4f66-a71b-ffe5b6703bf9",
   "metadata": {},
   "outputs": [],
   "source": []
  },
  {
   "cell_type": "code",
   "execution_count": 40,
   "id": "07c1187d",
   "metadata": {},
   "outputs": [],
   "source": [
    "from sklearn.linear_model import Ridge\n",
    "from sklearn.linear_model import Lasso"
   ]
  },
  {
   "cell_type": "code",
   "execution_count": 41,
   "id": "fc6874db",
   "metadata": {},
   "outputs": [],
   "source": [
    "ridgereg = Ridge(alpha=0.001,normalize=True)\n",
    "ridgereg.fit(X_train, y_train)\n",
    "y_pred = ridgereg.predict(X_test)"
   ]
  },
  {
   "cell_type": "code",
   "execution_count": 42,
   "id": "fac344d0",
   "metadata": {},
   "outputs": [
    {
     "data": {
      "text/plain": [
       "array([-1.43221212, -1.07363296, -5.0410336 , ..., -2.75997236,\n",
       "       -2.60533694, -3.22470534])"
      ]
     },
     "execution_count": 42,
     "metadata": {},
     "output_type": "execute_result"
    }
   ],
   "source": [
    "y_pred"
   ]
  },
  {
   "cell_type": "code",
   "execution_count": 43,
   "id": "8e60035c",
   "metadata": {},
   "outputs": [
    {
     "data": {
      "text/plain": [
       "180.32427559339402"
      ]
     },
     "execution_count": 43,
     "metadata": {},
     "output_type": "execute_result"
    }
   ],
   "source": [
    "mean_squared_error(y_test, y_pred)"
   ]
  },
  {
   "cell_type": "code",
   "execution_count": null,
   "id": "32ffedf2",
   "metadata": {},
   "outputs": [],
   "source": []
  },
  {
   "cell_type": "code",
   "execution_count": 44,
   "id": "352da453",
   "metadata": {},
   "outputs": [],
   "source": [
    "lassoreg = Lasso(alpha=0.001,normalize=True)\n",
    "lassoreg.fit(X_train, y_train)\n",
    "y_pred = lassoreg.predict(X_test)"
   ]
  },
  {
   "cell_type": "code",
   "execution_count": 45,
   "id": "2e8b03dd",
   "metadata": {},
   "outputs": [
    {
     "data": {
      "text/plain": [
       "180.46351187254822"
      ]
     },
     "execution_count": 45,
     "metadata": {},
     "output_type": "execute_result"
    }
   ],
   "source": [
    "mean_squared_error(y_test, y_pred)"
   ]
  },
  {
   "cell_type": "code",
   "execution_count": 80,
   "id": "3a61f9cb",
   "metadata": {},
   "outputs": [],
   "source": [
    "# from sklearn.preprocessing import PolynomialFeatures\n",
    "# from sklearn.linear_model import LinearRegression\n",
    "# from sklearn.pipeline import Pipeline\n",
    "# import numpy as np\n",
    "# model = Pipeline([('poly', PolynomialFeatures(degree=3)),\n",
    "#                   ('linear', LinearRegression(fit_intercept=False))])\n",
    "# # fit to an order-3 polynomial data\n",
    "# # x = np.arange(5)\n",
    "# # y = 3 - 2 * x + x ** 2 - x ** 3\n",
    "# model = model.fit(X, y)\n",
    "# model.named_steps['linear'].coef_"
   ]
  },
  {
   "cell_type": "code",
   "execution_count": 81,
   "id": "d8bac00a",
   "metadata": {},
   "outputs": [],
   "source": [
    "# model.predict(X)"
   ]
  },
  {
   "cell_type": "code",
   "execution_count": null,
   "id": "65bae3fe",
   "metadata": {},
   "outputs": [],
   "source": [
    "from sklearn.preprocessing import PolynomialFeatures\n",
    "\n",
    "poly = PolynomialFeatures(degree=10)\n",
    "poly.fit_transform(X)"
   ]
  },
  {
   "cell_type": "code",
   "execution_count": null,
   "id": "771b7d19",
   "metadata": {},
   "outputs": [],
   "source": [
    "X_train, X_test, y_train, y_test =split_data(X, y, test_size=0.2, random_state=99)"
   ]
  },
  {
   "cell_type": "code",
   "execution_count": null,
   "id": "868058d8",
   "metadata": {},
   "outputs": [],
   "source": [
    "ridgereg = Ridge(alpha=0.2,normalize=True)\n",
    "ridgereg.fit(X_train, y_train)\n",
    "y_pred = ridgereg.predict(X_test)"
   ]
  },
  {
   "cell_type": "code",
   "execution_count": null,
   "id": "9da28e2c",
   "metadata": {},
   "outputs": [],
   "source": [
    "mean_squared_error(y_test, y_pred)"
   ]
  },
  {
   "cell_type": "code",
   "execution_count": null,
   "id": "b547dc1b",
   "metadata": {},
   "outputs": [],
   "source": []
  },
  {
   "cell_type": "code",
   "execution_count": null,
   "id": "0da2ff34-f215-4c1d-a538-652d40110584",
   "metadata": {},
   "outputs": [],
   "source": []
  }
 ],
 "metadata": {
  "kernelspec": {
   "display_name": "the_trees",
   "language": "python",
   "name": "the_trees"
  },
  "language_info": {
   "codemirror_mode": {
    "name": "ipython",
    "version": 3
   },
   "file_extension": ".py",
   "mimetype": "text/x-python",
   "name": "python",
   "nbconvert_exporter": "python",
   "pygments_lexer": "ipython3",
   "version": "3.8.2"
  }
 },
 "nbformat": 4,
 "nbformat_minor": 5
}
